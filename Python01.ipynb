{
  "nbformat": 4,
  "nbformat_minor": 0,
  "metadata": {
    "colab": {
      "provenance": [],
      "include_colab_link": true
    },
    "kernelspec": {
      "name": "python3",
      "display_name": "Python 3"
    },
    "language_info": {
      "name": "python"
    }
  },
  "cells": [
    {
      "cell_type": "markdown",
      "metadata": {
        "id": "view-in-github",
        "colab_type": "text"
      },
      "source": [
        "<a href=\"https://colab.research.google.com/github/rumelay/Aiffel_quest_cr/blob/main/Python01.ipynb\" target=\"_parent\"><img src=\"https://colab.research.google.com/assets/colab-badge.svg\" alt=\"Open In Colab\"/></a>"
      ]
    },
    {
      "cell_type": "code",
      "execution_count": null,
      "metadata": {
        "id": "ofjqWxm8waXW",
        "colab": {
          "base_uri": "https://localhost:8080/"
        },
        "outputId": "132a27fe-90db-4b4c-9cbd-69e8b5b4d7e7"
      },
      "outputs": [
        {
          "output_type": "stream",
          "name": "stdout",
          "text": [
            "hello world\n"
          ]
        }
      ],
      "source": [
        "print(\"hello world\")"
      ]
    },
    {
      "cell_type": "code",
      "source": [
        "word = str(input('단어를 입력하세요.'))\n",
        "\n",
        "reversed_word = word[::-1]\n",
        "\n",
        "def quest(word):\n",
        "  return word == reversed_word\n",
        "\n",
        "print('뒤집힌 단어는', reversed_word, '입니다.', quest(word))\n",
        "\n",
        "if quest(word):\n",
        "  print('입력된 단어는 회문입니다.')\n",
        "else:\n",
        "  print('입력된 단어는 회문이 아닙니다.')\n"
      ],
      "metadata": {
        "id": "Sd1X67wuxl9m"
      },
      "execution_count": null,
      "outputs": []
    },
    {
      "cell_type": "code",
      "source": [
        "#단어 입력하기\n",
        "word = str(input('단어를 입력하세요.'))\n",
        "\n",
        "#입력받은 단어 회문으로 만들고 변수에 저장\n",
        "reversed_word = word[::-1]\n",
        "\n",
        "#입력받은 단어 회문인지 참, 거짓 리턴하는 함수\n",
        "def lay(word):\n",
        "  return word == reversed_word\n",
        "\n",
        "# 입력받은 단어 뒤집어서 출력\n",
        "print(\"뒤집힌 단어는:\", reversed_word)\n",
        "\n",
        "#함수로 받은 리턴 값에 따라 회문인지 아닌지 출력하는 조건문\n",
        "if lay(word):\n",
        "  print('회문')\n",
        "else:\n",
        "  print('회문x')\n",
        "\n"
      ],
      "metadata": {
        "id": "3fE-hYJ53C-j",
        "colab": {
          "base_uri": "https://localhost:8080/"
        },
        "outputId": "a7f279bb-4dc0-4034-e7b2-845b90338f96"
      },
      "execution_count": null,
      "outputs": [
        {
          "output_type": "stream",
          "name": "stdout",
          "text": [
            "단어를 입력하세요.우성우\n",
            "뒤집힌 단어는: 우성우\n",
            "회문\n"
          ]
        }
      ]
    }
  ]
}