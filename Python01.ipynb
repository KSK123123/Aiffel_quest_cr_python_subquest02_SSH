{
  "nbformat": 4,
  "nbformat_minor": 0,
  "metadata": {
    "colab": {
      "provenance": [],
      "include_colab_link": true
    },
    "kernelspec": {
      "name": "python3",
      "display_name": "Python 3"
    },
    "language_info": {
      "name": "python"
    }
  },
  "cells": [
    {
      "cell_type": "markdown",
      "metadata": {
        "id": "view-in-github",
        "colab_type": "text"
      },
      "source": [
        "<a href=\"https://colab.research.google.com/github/rumelay/Aiffel_quest_cr/blob/main/Python01.ipynb\" target=\"_parent\"><img src=\"https://colab.research.google.com/assets/colab-badge.svg\" alt=\"Open In Colab\"/></a>"
      ]
    },
    {
      "cell_type": "code",
      "source": [
        "word = str(input('단어를 입력하세요.'))\n",
        "\n",
        "reversed_word = word[::-1]\n",
        "\n",
        "def quest(word):\n",
        "  return word == reversed_word\n",
        "\n",
        "print('뒤집힌 단어는', reversed_word, '입니다.', quest(word))\n",
        "\n",
        "if quest(word):\n",
        "  print('입력된 단어는 회문입니다.')\n",
        "else:\n",
        "  print('입력된 단어는 회문이 아닙니다.')"
      ],
      "metadata": {
        "id": "Sd1X67wuxl9m"
      },
      "execution_count": null,
      "outputs": []
    },
    {
      "cell_type": "code",
      "source": [
        "# 단어 입력하기\n",
        "word = str(input('단어를 입력하세요.'))\n",
        "\n",
        "# 입력받은 단어 회문으로 만들고 변수에 저장\n",
        "reversed_word = word[::-1]\n",
        "\n",
        "# 입력받은 단어 회문인지 참, 거짓 리턴하는 함수\n",
        "def quest(word):\n",
        "  return word == reversed_word\n",
        "\n",
        "# 입력받은 단어 뒤집어서 출력\n",
        "print('뒤집힌 단어는 ', reversed_word, '입니다.', quest(word))\n",
        "\n",
        "# 함수로 받은 리턴 값에 따라 회문인지 아닌지 출력하는 조건문\n",
        "if quest(word):\n",
        "  print('입력된 단어는 회문입니다.')\n",
        "else:\n",
        "  print('입력된 단어는 회문이 아닙니다.')\n",
        "\n",
        "# 단어를 회문으로 만드는 과정에서 어려움이 있었지만 원하는 단어를 직접 입력하게 하는 방법과\n",
        "# 참과 거짓, if 조건문을 활용한 출력은 아이펠에서 학습했기에 수월하게 작성할 수 있었습니다."
      ],
      "metadata": {
        "id": "3fE-hYJ53C-j"
      },
      "execution_count": null,
      "outputs": []
    }
  ]
}