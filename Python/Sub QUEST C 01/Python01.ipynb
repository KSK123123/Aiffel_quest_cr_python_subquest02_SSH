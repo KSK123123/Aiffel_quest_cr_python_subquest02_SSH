{
  "nbformat": 4,
  "nbformat_minor": 0,
  "metadata": {
    "colab": {
      "provenance": []
    },
    "kernelspec": {
      "name": "python3",
      "display_name": "Python 3"
    },
    "language_info": {
      "name": "python"
    }
  },
  "cells": [
    {
      "cell_type": "code",
      "source": [
        "word = str(input('단어를 입력하세요.'))\n",
        "\n",
        "reversed_word = word[::-1]\n",
        "\n",
        "def quest(word):\n",
        "  return word == reversed_word\n",
        "\n",
        "print('뒤집힌 단어는', reversed_word, '입니다.', quest(word))\n",
        "\n",
        "if quest(word):\n",
        "  print('입력된 단어는 회문입니다.')\n",
        "else:\n",
        "  print('입력된 단어는 회문이 아닙니다.')"
      ],
      "metadata": {
        "id": "Sd1X67wuxl9m"
      },
      "execution_count": null,
      "outputs": []
    },
    {
      "cell_type": "code",
      "source": [
        "#단어 입력하기\n",
        "word = str(input('단어를 입력하세요.'))\n",
        "\n",
        "#입력받은 단어 회문으로 만들고 변수에 저장\n",
        "reversed_word = word[::-1]\n",
        "\n",
        "#입력받은 단어 회문인지 참, 거짓 리턴하는 함수\n",
        "def quest(word):\n",
        "  return word == reversed_word\n",
        "\n",
        "# 입력받은 단어 뒤집어서 출력\n",
        "print('뒤집힌 단어는 ', reversed_word, '입니다.', quest(word))\n",
        "\n",
        "#함수로 받은 리턴 값에 따라 회문인지 아닌지 출력하는 조건문\n",
        "if quest(word):\n",
        "  print('입력된 단어는 회문입니다.')\n",
        "else:\n",
        "  print('입력된 단어는 회문이 아닙니다.')"
      ],
      "metadata": {
        "id": "3fE-hYJ53C-j"
      },
      "execution_count": null,
      "outputs": []
    }
  ]
}
